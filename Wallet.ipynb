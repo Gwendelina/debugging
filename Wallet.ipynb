{
 "cells": [
  {
   "cell_type": "code",
   "execution_count": 2,
   "metadata": {},
   "outputs": [],
   "source": [
    "import pytest\n",
    "import ipytest\n",
    "\n"
   ]
  },
  {
   "cell_type": "markdown",
   "metadata": {},
   "source": [
    "# Creation d'un wallet"
   ]
  },
  {
   "cell_type": "code",
   "execution_count": 3,
   "metadata": {},
   "outputs": [],
   "source": [
    "\n",
    "class Wallet(object):\n",
    "\n",
    "    def __init__(self, initial_amount=0):\n",
    "        self.balance = initial_amount\n",
    "\n",
    "    def spend_cash(self, amount):\n",
    "        if self.balance < amount:\n",
    "            raise InsufficientAmount('Not enough available to spend {}'.format(amount))\n",
    "        else:\n",
    "            self.balance -= amount\n",
    "\n",
    "    def add_cash(self, amount):\n",
    "        self.balance += amount\n",
    "        \n",
    "\n",
    "class InsufficientAmount(Exception):\n",
    "    pass"
   ]
  },
  {
   "cell_type": "markdown",
   "metadata": {},
   "source": [
    "# 1- Definition des tests\n"
   ]
  },
  {
   "cell_type": "code",
   "execution_count": 4,
   "metadata": {},
   "outputs": [
    {
     "name": "stderr",
     "output_type": "stream",
     "text": [
      "UsageError: Cell magic `%%run_pytest[clean]` not found.\n"
     ]
    }
   ],
   "source": [
    "\n",
    "%%run_pytest[clean] -qq\n",
    "\n",
    "def test_default_initial_amount():\n",
    "    wallet = Wallet()\n",
    "    assert wallet.balance == 0\n",
    "\n",
    "def test_setting_initial_amount():\n",
    "    wallet = Wallet(100)\n",
    "    assert wallet.balance == 200\n",
    "\n",
    "def test_wallet_add_cash():\n",
    "    wallet = Wallet(10)\n",
    "    wallet.add_cash(90)\n",
    "    assert wallet.balance == 100\n",
    "\n",
    "def test_wallet_spend_cash():\n",
    "    wallet = Wallet(20)\n",
    "    wallet.spend_cash(10)\n",
    "    assert wallet.balance == 10\n",
    "\n",
    "def test_wallet_spend_cash_raises_exception_on_insufficient_amount():\n",
    "    wallet = Wallet()\n",
    "    with pytest.raises(InsufficientAmount):\n",
    "        wallet.spend_cash(100)\n",
    "        \n",
    "\n"
   ]
  },
  {
   "cell_type": "markdown",
   "metadata": {},
   "source": [
    "# 2 -Refactorisation des tests avec Fixture"
   ]
  },
  {
   "cell_type": "code",
   "execution_count": 5,
   "metadata": {},
   "outputs": [
    {
     "name": "stderr",
     "output_type": "stream",
     "text": [
      "UsageError: Cell magic `%%run_pytest[clean]` not found.\n"
     ]
    }
   ],
   "source": [
    "%%run_pytest[clean] -qq\n",
    "\n",
    "\n",
    "@pytest.fixture\n",
    "def empty_wallet():\n",
    "    '''Retourne un portefeuille vide'''\n",
    "    return Wallet()\n",
    "\n",
    "@pytest.fixture\n",
    "def wallet():\n",
    "    '''Retourne un portefeuille avec 20€ '''\n",
    "    return Wallet(20)\n",
    "\n",
    "class TestClass1:\n",
    "    \n",
    "    def test_default_initial_amount(self,empty_wallet):\n",
    "        assert empty_wallet.balance == 0\n",
    "\n",
    "    def test_setting_initial_amount(self,wallet):\n",
    "        assert wallet.balance == 20\n",
    "\n",
    "    def test_wallet_add_cash(self,wallet):\n",
    "        wallet.add_cash(80)\n",
    "        assert wallet.balance == 900\n",
    "\n",
    "    def test_wallet_spend_cash(self,wallet):\n",
    "        wallet.spend_cash(10)\n",
    "        assert wallet.balance == 10\n",
    "\n",
    "    def test_wallet_spend_cash_raises_exception_on_insufficient_amount(self,empty_wallet):\n",
    "        with pytest.raises(InsufficientAmount):\n",
    "            empty_wallet.spend_cash(100)"
   ]
  },
  {
   "cell_type": "markdown",
   "metadata": {},
   "source": [
    "\n",
    "A la différence des tests précédent où l'on devait créer une nouvelle instance de wallet dans chaque test, ici grâce au décorateur \"fixture\", on peut passer les fonctions \"wallet\" en argument des fonctions \"test\" afin de créer un nouveau Wallet à chaque test. "
   ]
  },
  {
   "cell_type": "markdown",
   "metadata": {},
   "source": [
    "# 3- Paramétrer des scénarios"
   ]
  },
  {
   "cell_type": "code",
   "execution_count": 6,
   "metadata": {},
   "outputs": [
    {
     "name": "stderr",
     "output_type": "stream",
     "text": [
      "UsageError: Cell magic `%%run_pytest[clean]` not found.\n"
     ]
    }
   ],
   "source": [
    "%%run_pytest[clean] -qq\n",
    "\n",
    "\n",
    "@pytest.fixture\n",
    "def wallet():\n",
    "    return Wallet(20)\n",
    "\n",
    "\n",
    "# Scénario 1\n",
    "@pytest.mark.parametrize(\"earned,spent,expected\", [\n",
    "    (30, 10, 40),\n",
    "    (10, 20, 10),\n",
    "    (40,50,10),\n",
    "    (40,40,0)\n",
    "])\n",
    "\n",
    "\n",
    "def test_transactions(wallet, earned, spent, expected):\n",
    "    wallet.add_cash(earned)\n",
    "    wallet.spend_cash(spent)\n",
    "    assert wallet.balance == expected\n",
    "\n",
    "# Scénario 2\n",
    "@pytest.mark.parametrize(\"spent,earned,expected\",[\n",
    "    (20,10,10),\n",
    "    (10,10,20),\n",
    "    (0,10,30)\n",
    "])\n",
    "\n",
    "def test_transactions2(wallet, spent, earned, expected):\n",
    "    wallet.spend_cash(spent)\n",
    "    wallet.add_cash(earned)\n",
    "\n",
    "    assert wallet.balance == expected\n",
    "    "
   ]
  },
  {
   "cell_type": "code",
   "execution_count": null,
   "metadata": {},
   "outputs": [],
   "source": []
  },
  {
   "cell_type": "markdown",
   "metadata": {},
   "source": [
    " # 4- Exercice \n",
    "Reprendre l'exemple donné en partie 3, puis imaginer une batterie de tests simulant une transaction entre deux wallet en étant le plus complet possible\n"
   ]
  },
  {
   "cell_type": "markdown",
   "metadata": {},
   "source": [
    "Exemple :\n",
    "    \n",
    "Wallet 1 = 200€    \n",
    "Wallet 2 = 100€\n",
    "\n",
    "Wallet 1 donne 100€ à Wallet 2"
   ]
  },
  {
   "cell_type": "code",
   "execution_count": null,
   "metadata": {},
   "outputs": [],
   "source": []
  },
  {
   "cell_type": "code",
   "execution_count": null,
   "metadata": {},
   "outputs": [],
   "source": []
  }
 ],
 "metadata": {
  "kernelspec": {
   "display_name": "Python 3",
   "language": "python",
   "name": "python3"
  },
  "language_info": {
   "codemirror_mode": {
    "name": "ipython",
    "version": 3
   },
   "file_extension": ".py",
   "mimetype": "text/x-python",
   "name": "python",
   "nbconvert_exporter": "python",
   "pygments_lexer": "ipython3",
   "version": "3.7.6"
  }
 },
 "nbformat": 4,
 "nbformat_minor": 5
}
